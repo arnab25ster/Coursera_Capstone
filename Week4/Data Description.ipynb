{
 "cells": [
  {
   "cell_type": "markdown",
   "metadata": {},
   "source": [
    "### Data Description:"
   ]
  },
  {
   "cell_type": "markdown",
   "metadata": {},
   "source": [
    "We require geographical location data for both NewYork and Toronto. Postal codes, Borough and Neighborhood in each city serve as a starting point. Using the city we can find the latitude and longitude information of the city. We can again go a step further to get the venues withing the neighborhood using the foursquare API."
   ]
  },
  {
   "cell_type": "markdown",
   "metadata": {},
   "source": [
    "### 1. Toronto data:"
   ]
  },
  {
   "cell_type": "markdown",
   "metadata": {},
   "source": [
    "To derive our solution, We scrape our data from https://en.wikipedia.org/wiki/List_of_postal_codes_of_Canada:_M"
   ]
  },
  {
   "cell_type": "markdown",
   "metadata": {},
   "source": [
    "This wikipedia page has information about all the neighbourhoods, we limit it for Toronto.\n",
    "\n",
    "1.\tPostalCode : Postal code (Alphanumeric Number)\n",
    "2.\tBorough:  Name of the Borough\n",
    "3.\tNeigborhood: The neighborhood in the Borough. In one Borough there might be multiple neighborhoods, so they are separated by comma (,)\n",
    "\n",
    "This wikipedia page lacks information about the geographical locations. To solve this we use another weblink having the coordinates of each postal code.\n",
    "\n",
    "https://cf-courses-data.s3.us.cloud-object-storage.appdomain.cloud/IBMDeveloperSkillsNetwork-DS0701EN-SkillsNetwork/labs_v1/Geospatial_Coordinates.csv\n"
   ]
  },
  {
   "cell_type": "markdown",
   "metadata": {},
   "source": [
    "### 2.  New York data"
   ]
  },
  {
   "cell_type": "markdown",
   "metadata": {},
   "source": [
    "To derive our solution, We leverage JSON data available at \n",
    "\n",
    "https://cf-courses-data.s3.us.cloud-object-storage.appdomain.cloud/IBMDeveloperSkillsNetwork-DS0701EN-SkillsNetwork/labs/newyork_data.json\n",
    "\n",
    "The JSON file has data about all the neighborhoods in New York. We limit our data for only the following columns:\n",
    "1.\tBorough: Name of the Borough\n",
    "2.\tNeighborhood: Name of the neighborhood in the Borough.\n",
    "3.\tLatitude: Latitude of the neighborhood\n",
    "4.\tLongitude: Longitude of the neighborhood\n"
   ]
  },
  {
   "cell_type": "markdown",
   "metadata": {},
   "source": [
    "### 3. Foursquare API Data "
   ]
  },
  {
   "cell_type": "markdown",
   "metadata": {},
   "source": [
    "We will need data about different venues in different neighbourhoods of that specific borough. In order to gain that information we will use \"Foursquare\" locational information. Foursquare is a location data provider with information about all manner of venues and events within an area of interest. Such information includes venue names, locations, menus and even photos. As such, the foursquare location platform will be used as the sole data source since all the stated required information can be obtained through the API.\n",
    "\n",
    "After finding the list of neighbourhoods, we then connect to the Foursquare API to gather information about venues inside each and every neighbourhood. For each neighbourhood, we have chosen the radius to be 700 meters.\n",
    "\n",
    "The data retrieved from Foursquare contained information of venues within a specified distance of the longitude and latitude of the postcodes. The information obtained per venue as follows:\n",
    "\n",
    "1.\tNeighbourhood : Name of the Neighbourhood\n",
    "2.\tNeighbourhood Latitude : Latitude of the Neighbourhood\n",
    "3.\tNeighbourhood Longitude : Longitude of the Neighbourhood\n",
    "4.\tVenue : Name of the Venue\n",
    "5.\tVenue Latitude : Latitude of Venue\n",
    "6.\tVenue Longitude : Longitude of Venue\n",
    "7.\tVenue Category : Category of Venue\n",
    "\n",
    "Based on all the information collected for both Toronto and New York, we have sufficient data to build our model. We cluster the neighbourhoods together based on similar venue categories. We then present our observations and findings. Using this data, our stakeholders can take the necessary decision to finding a best neighborhood which suites their needs.\n"
   ]
  },
  {
   "cell_type": "code",
   "execution_count": null,
   "metadata": {},
   "outputs": [],
   "source": [
    "\n"
   ]
  }
 ],
 "metadata": {
  "kernelspec": {
   "display_name": "Python 3",
   "language": "python",
   "name": "python3"
  },
  "language_info": {
   "codemirror_mode": {
    "name": "ipython",
    "version": 3
   },
   "file_extension": ".py",
   "mimetype": "text/x-python",
   "name": "python",
   "nbconvert_exporter": "python",
   "pygments_lexer": "ipython3",
   "version": "3.8.5"
  }
 },
 "nbformat": 4,
 "nbformat_minor": 4
}
