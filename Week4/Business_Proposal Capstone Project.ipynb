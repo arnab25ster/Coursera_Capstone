{
 "cells": [
  {
   "cell_type": "markdown",
   "metadata": {},
   "source": [
    "### Introduction:"
   ]
  },
  {
   "cell_type": "markdown",
   "metadata": {},
   "source": [
    "The project centers around two major North American cities across two countries namely New York (USA) and Toronto (Canada). The purpose of this Project is to help people in exploring better facilities around their neighborhood. It will also help people making smart and efficient decision on selecting great neighborhood out of numbers of other neighborhoods.\n",
    "\n",
    "\n",
    "There are often scenarios when people migrate from New-York to Toronto or vice-versa for job or in search of better opportunity/livelihood. Most of us while migrating to a new neighborhood are unaware of it’s pros and cons. Each individual have their own preference, like for example one like to have a fresh cup of coffee before going to work and have food on the way while coming back home. So he/she will be interested to stay near certain place where both coffee and restaurant are in close proximity. ( This again depends on each individuals preference and choices)\n",
    "\n",
    "\n",
    "This Project aim to create an analysis of features for a people migrating from Toronto to New York so that it will be easy for an individual to pick a neighborhood based on his personal preferences. It will also help people to get awareness of the area and neighborhood before moving to a new city, state, country or place for their work or to start a new fresh life.\n"
   ]
  },
  {
   "cell_type": "markdown",
   "metadata": {},
   "source": [
    "### Problem Statement:"
   ]
  },
  {
   "cell_type": "markdown",
   "metadata": {},
   "source": [
    "There are various components which makes a neighborhood, like park, hospitals, restaurants, movie theaters, community halls etc. Any communities will have them, but each person will have their own preferences. In this project we will group various neighborhoods based on Top 10 venues within 700 meters of the  neighborhood."
   ]
  },
  {
   "cell_type": "markdown",
   "metadata": {},
   "source": [
    "### Foursquare API:"
   ]
  },
  {
   "cell_type": "markdown",
   "metadata": {},
   "source": [
    "This project would use Four-square API as its prime data gathering source as it has a database of millions of places, especially their places API which provides the ability to perform location search, location sharing and details about a business."
   ]
  },
  {
   "cell_type": "markdown",
   "metadata": {},
   "source": [
    "### Work Flow:"
   ]
  },
  {
   "cell_type": "markdown",
   "metadata": {},
   "source": [
    "Using credentials of Foursquare API features of near-by places of the neighborhoods would be mined. Due to http request limitations the number of places per neighborhood parameter would reasonably be set to 100 and the radius parameter would be set to 700."
   ]
  },
  {
   "cell_type": "markdown",
   "metadata": {},
   "source": [
    "### Libraries Which are Used to Develop the Project:"
   ]
  },
  {
   "cell_type": "markdown",
   "metadata": {},
   "source": [
    "**Pandas:** For creating and manipulating dataframes.\n",
    "\n",
    "**Folium:** Python visualization library would be used to visualize the neighborhoods cluster distribution of using interactive leaflet map.\n",
    "\n",
    "**Scikit Learn:** For importing k-means clustering.\n",
    "\n",
    "**JSON:** Library to handle JSON files.\n",
    "\n",
    "**XML:** To separate data from presentation and XML stores data in plain text format.\n",
    "\n",
    "**Geocoder:** To retrieve Location Data.\n",
    "\n",
    "**Beautiful Soup and Requests:** To scrap and library to handle http requests.\n",
    "\n",
    "**Matplotlib:** Python Plotting Module.\n"
   ]
  },
  {
   "cell_type": "code",
   "execution_count": null,
   "metadata": {},
   "outputs": [],
   "source": []
  }
 ],
 "metadata": {
  "kernelspec": {
   "display_name": "Python 3",
   "language": "python",
   "name": "python3"
  },
  "language_info": {
   "codemirror_mode": {
    "name": "ipython",
    "version": 3
   },
   "file_extension": ".py",
   "mimetype": "text/x-python",
   "name": "python",
   "nbconvert_exporter": "python",
   "pygments_lexer": "ipython3",
   "version": "3.8.5"
  }
 },
 "nbformat": 4,
 "nbformat_minor": 4
}
